{
 "cells": [
  {
   "cell_type": "code",
   "execution_count": 40,
   "metadata": {},
   "outputs": [],
   "source": [
    "import pandas as pd\n",
    "from splinter import Browser\n",
    "from bs4 import BeautifulSoup as bs\n",
    "import time"
   ]
  },
  {
   "cell_type": "code",
   "execution_count": 41,
   "metadata": {},
   "outputs": [],
   "source": [
    "executable_path = {\"executable_path\": \"C:/Users/ashfo/Documents/bootcamp_homework/chromedriver.exe\"}\n",
    "browser = Browser(\"chrome\", **executable_path, headless=False)"
   ]
  },
  {
   "cell_type": "code",
   "execution_count": 42,
   "metadata": {},
   "outputs": [],
   "source": [
    "url = \"https://mars.nasa.gov/news/?page=0&per_page=40&order=publish_date+desc%2Ccreated_at+desc&search=&category=19%2C165%2C184%2C204&blank_scope=Latest\"\n",
    "browser.visit(url)\n",
    "time.sleep(1)"
   ]
  },
  {
   "cell_type": "code",
   "execution_count": 43,
   "metadata": {},
   "outputs": [],
   "source": [
    "html = browser.html\n",
    "soup = bs(html, \"html.parser\")"
   ]
  },
  {
   "cell_type": "code",
   "execution_count": 44,
   "metadata": {},
   "outputs": [
    {
     "name": "stdout",
     "output_type": "stream",
     "text": [
      "5 Hidden Gems Are Riding Aboard NASA's Perseverance Rover\n",
      "The symbols, mottos, and small objects added to the agency's newest Mars rover serve a variety of purposes, from functional to decorative.\n"
     ]
    }
   ],
   "source": [
    "li = soup.find(\"li\", class_=\"slide\")\n",
    "news_title = li.find(\"div\", class_=\"content_title\").text\n",
    "news_p = li.find(\"div\", class_=\"article_teaser_body\").text\n",
    "print(news_title)\n",
    "print(news_p)"
   ]
  },
  {
   "cell_type": "code",
   "execution_count": 45,
   "metadata": {},
   "outputs": [],
   "source": [
    "url = \"https://www.jpl.nasa.gov/spaceimages/?search=&category=Mars\"\n",
    "browser.visit(url)\n",
    "time.sleep(1)"
   ]
  },
  {
   "cell_type": "code",
   "execution_count": 46,
   "metadata": {},
   "outputs": [],
   "source": [
    "html = browser.html\n",
    "soup = bs(html, \"html.parser\")"
   ]
  },
  {
   "cell_type": "code",
   "execution_count": 47,
   "metadata": {},
   "outputs": [],
   "source": [
    "imagesoup = soup.find(\"a\", id=\"full_image\")[\"data-link\"]\n",
    "base_url = \"https://www.jpl.nasa.gov\"\n",
    "rel_url = base_url + imagesoup\n",
    "browser.visit(rel_url)\n",
    "time.sleep(1)"
   ]
  },
  {
   "cell_type": "code",
   "execution_count": 48,
   "metadata": {},
   "outputs": [],
   "source": [
    "html = browser.html\n",
    "soup = bs(html, \"html.parser\")"
   ]
  },
  {
   "cell_type": "code",
   "execution_count": 49,
   "metadata": {},
   "outputs": [
    {
     "data": {
      "text/plain": [
       "'/spaceimages/images/largesize/PIA19821_hires.jpg'"
      ]
     },
     "execution_count": 49,
     "metadata": {},
     "output_type": "execute_result"
    }
   ],
   "source": [
    "img = soup.find(\"figure\", class_=\"lede\").a[\"href\"]\n",
    "featured_img_url = base_url + img"
   ]
  },
  {
   "cell_type": "code",
   "execution_count": 50,
   "metadata": {},
   "outputs": [],
   "source": [
    "url = \"https://space-facts.com/mars/\"\n",
    "browser.visit(url)\n",
    "time.sleep(1)"
   ]
  },
  {
   "cell_type": "code",
   "execution_count": 51,
   "metadata": {},
   "outputs": [],
   "source": [
    "html = browser.html\n",
    "soup = bs(html, \"html.parser\")"
   ]
  },
  {
   "cell_type": "code",
   "execution_count": 56,
   "metadata": {},
   "outputs": [
    {
     "data": {
      "text/plain": [
       "<table class=\"tablepress tablepress-id-p-mars\" id=\"tablepress-p-mars-no-2\"><tbody><tr class=\"row-1 odd\"><td class=\"column-1\"><strong>Equatorial Diameter:</strong></td><td class=\"column-2\">6,792 km<br/></td></tr><tr class=\"row-2 even\"><td class=\"column-1\"><strong>Polar Diameter:</strong></td><td class=\"column-2\">6,752 km<br/></td></tr><tr class=\"row-3 odd\"><td class=\"column-1\"><strong>Mass:</strong></td><td class=\"column-2\">6.39 × 10^23 kg<br/> (0.11 Earths)</td></tr><tr class=\"row-4 even\"><td class=\"column-1\"><strong>Moons:</strong></td><td class=\"column-2\">2 (<a href=\"https://space-facts.com/moons/phobos/\">Phobos</a> &amp; <a href=\"https://space-facts.com/moons/deimos/\">Deimos</a>)</td></tr><tr class=\"row-5 odd\"><td class=\"column-1\"><strong>Orbit Distance:</strong></td><td class=\"column-2\">227,943,824 km<br/> (1.38 AU)</td></tr><tr class=\"row-6 even\"><td class=\"column-1\"><strong>Orbit Period:</strong></td><td class=\"column-2\">687 days (1.9 years)<br/></td></tr><tr class=\"row-7 odd\"><td class=\"column-1\"><strong>Surface Temperature: </strong></td><td class=\"column-2\">-87 to -5 °C</td></tr><tr class=\"row-8 even\"><td class=\"column-1\"><strong>First Record:</strong></td><td class=\"column-2\">2nd millennium BC</td></tr><tr class=\"row-9 odd\"><td class=\"column-1\"><strong>Recorded By:</strong></td><td class=\"column-2\">Egyptian astronomers</td></tr></tbody></table>"
      ]
     },
     "execution_count": 56,
     "metadata": {},
     "output_type": "execute_result"
    }
   ],
   "source": [
    "table = soup.find(\"table\", id=\"tablepress-p-mars-no-2\")\n",
    "table"
   ]
  },
  {
   "cell_type": "code",
   "execution_count": null,
   "metadata": {},
   "outputs": [],
   "source": []
  }
 ],
 "metadata": {
  "kernelspec": {
   "display_name": "Python 3",
   "language": "python",
   "name": "python3"
  },
  "language_info": {
   "codemirror_mode": {
    "name": "ipython",
    "version": 3
   },
   "file_extension": ".py",
   "mimetype": "text/x-python",
   "name": "python",
   "nbconvert_exporter": "python",
   "pygments_lexer": "ipython3",
   "version": "3.6.10"
  }
 },
 "nbformat": 4,
 "nbformat_minor": 4
}
